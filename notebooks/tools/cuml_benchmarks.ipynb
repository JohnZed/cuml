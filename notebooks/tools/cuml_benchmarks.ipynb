{
 "cells": [
  {
   "cell_type": "markdown",
   "metadata": {},
   "source": [
    "# RAPIDS cuML \n",
    "## Performance, Boundaries, and Correctness Benchmarks\n",
    "\n",
    "**Description:** This notebook provides a simple and unified means of benchmarking single GPU cuML algorithms against their skLearn counterparts with the `cuml.benchmark` package in RAPIDS cuML. This enables quick and simple measurements of performance, validation of correctness, and investigation of upper bounds.\n",
    "\n",
    "Each benchmark returns a Pandas `DataFrame` with the results. At the end of the notebook, these results are used to draw charts and output to a CSV file. \n",
    "\n",
    "Please refer to the [table of contents](#table_of_contents) for algorithms available to be benchmarked with this notebook."
   ]
  },
  {
   "cell_type": "code",
   "execution_count": 1,
   "metadata": {},
   "outputs": [
    {
     "name": "stderr",
     "output_type": "stream",
     "text": [
      "/home/jzedlewski/anaconda3/envs/cuml_dev/lib/python3.7/site-packages/treelite/gallery/__init__.py:7: FutureWarning: treelite.gallery.sklearn has been moved to treelite.sklearn. treelite.gallery.sklearn will be removed in version 1.1.\n",
      "  FutureWarning)\n",
      "/home/jzedlewski/anaconda3/envs/cuml_dev/lib/python3.7/site-packages/treelite/gallery/sklearn/__init__.py:9: FutureWarning: treelite.gallery.sklearn has been moved to treelite.sklearn. treelite.gallery.sklearn will be removed in version 1.1.\n",
      "  FutureWarning)\n"
     ]
    },
    {
     "name": "stdout",
     "output_type": "stream",
     "text": [
      "0.15.0a+735.g0c4029b0a.dirty\n"
     ]
    }
   ],
   "source": [
    "import cuml\n",
    "import pandas as pd\n",
    "\n",
    "from cuml.benchmark.runners import SpeedupComparisonRunner\n",
    "from cuml.benchmark.algorithms import algorithm_by_name\n",
    "from cuml.common.import_utils import has_umap\n",
    "\n",
    "import warnings\n",
    "warnings.filterwarnings('ignore', 'Expected column ')\n",
    "\n",
    "import os\n",
    "os.environ[\"CUDA_VISIBLE_DEVICES\"] = \"0\"\n",
    "os.environ[\"OMP_NUM_THREADS\"] = \"1\"\n",
    "print(cuml.__version__)"
   ]
  },
  {
   "cell_type": "code",
   "execution_count": 2,
   "metadata": {},
   "outputs": [],
   "source": [
    "os.environ[\"NUM_THREADS\"] = \"2\""
   ]
  },
  {
   "cell_type": "code",
   "execution_count": 3,
   "metadata": {},
   "outputs": [],
   "source": [
    "N_REPS = 1  # Number of times each test is repeated\n",
    "\n",
    "DATA_NEIGHBORHOODS = \"blobs\"\n",
    "DATA_CLASSIFICATION = \"classification\"\n",
    "DATA_REGRESSION = \"regression\"\n",
    "\n",
    "INPUT_TYPE = \"numpy\"\n",
    "\n",
    "benchmark_results = []"
   ]
  },
  {
   "cell_type": "code",
   "execution_count": 4,
   "metadata": {},
   "outputs": [],
   "source": [
    "SMALL_ROW_SIZES = [2**x for x in range(12, 15)] # [2**x for x in range(14, 17)]\n",
    "LARGE_ROW_SIZES = [2**x for x in range(18, 21)] # [2**x for x in range(18, 24, 2)]\n",
    "\n",
    "SKINNY_FEATURES = [16, 64] # [32, 256]\n",
    "WIDE_FEATURES = [100, 1000] # [1000, 10000]\n",
    "\n",
    "VERBOSE = True\n",
    "RUN_CPU = True\n",
    "# Some CPU implementations may take hours to run, so they are disabled by default\n",
    "# Set this variable to True to enable them\n",
    "RUN_SLOW_CPU_ALGOS = True"
   ]
  },
  {
   "cell_type": "code",
   "execution_count": 5,
   "metadata": {},
   "outputs": [],
   "source": [
    "import rmm\n",
    "\n",
    "# Set pool allocator to True as desired\n",
    "rmm.reinitialize(managed_memory=True)"
   ]
  },
  {
   "cell_type": "code",
   "execution_count": 11,
   "metadata": {},
   "outputs": [],
   "source": [
    "def enrich_result(algorithm, runner, result):\n",
    "    result[\"algo\"] = algorithm\n",
    "    result[\"dataset_name\"] = runner.dataset_name\n",
    "    result[\"input_type\"] = runner.input_type\n",
    "    return result\n",
    "\n",
    "def execute_benchmark(algorithm, runner, run_cpu=RUN_CPU, **kwargs):\n",
    "    \"\"\"\n",
    "    Executes a benchmark with the given parameters\n",
    "    \n",
    "    Parameters\n",
    "    ----------\n",
    "    \n",
    "    algorithm : str or cuml.benchmark.algorithms.AlgorithmPair \n",
    "        Algorithm configuration to benchmark. String input must be \n",
    "        registered in cuml.benchmark.algorithms.all_algorithms()\n",
    "        \n",
    "    runner : cuml.benchmark.runners.SpeedupComparisonRunner\n",
    "        Benchmark runner for computing results\n",
    "        \n",
    "    run_cpu : bool\n",
    "        Whether to run the CPU benchmark. This will be\n",
    "        ignored if a corresponding CPU benchmark is not\n",
    "        provided.\n",
    "    \"\"\"\n",
    "    \n",
    "    algo = algorithm_by_name(algorithm) if isinstance(algorithm, str) else algorithm\n",
    "    \n",
    "    results = runner.run(algo, run_cpu=run_cpu, **kwargs)\n",
    "    results = [enrich_result(algorithm, runner, result) for result in results]\n",
    "    print(pd.DataFrame(results))\n",
    "    \n",
    "    benchmark_results.extend(results)"
   ]
  },
  {
   "cell_type": "markdown",
   "metadata": {},
   "source": [
    "## Table of Contents<a id=\"table_of_contents\"/>\n",
    "\n",
    "### Benchmarks\n",
    "1. [Neighbors](#neighbors)<br>\n",
    "    1.1 [Nearest Neighbors - Brute Force](#nn_bruteforce)<br>\n",
    "    1.2 [KNeighborsClassifier](#kneighborsclassifier)<br>\n",
    "    1.3 [KNeighborsRegressor](#kneighborsregressor)<br>\n",
    "2. [Clustering](#clustering)<br>\n",
    "    2.1 [DBSCAN - Brute Force](#dbscan_bruteforce)<br>\n",
    "    2.2 [K-Means](#kmeans)<br>\n",
    "3. [Manifold Learning](#manifold_learning)<br>\n",
    "    3.1 [UMAP - Unsupervised](#umap_unsupervised)<br>\n",
    "    3.2 [UMAP - Supervised](#umap_supervised)<br>\n",
    "    3.3 [T-SNE](#tsne)<br>\n",
    "4. [Linear Models](#linear_models)<br>\n",
    "    4.1 [Linear Regression](#linear_regression)<br>\n",
    "    4.2 [Logistic Regression](#logistic_regression)<br>\n",
    "    4.3 [Ridge Regression](#ridge_regression)<br>\n",
    "    4.4 [Lasso Regression](#lasso_regression)<br>\n",
    "    4.5 [ElasticNet Regression](#elasticnet_regression)<br>\n",
    "    4.6 [Mini-batch SGD Classifier](#minibatch_sgd_classifier)<br>\n",
    "5. [Decomposition](#decomposition)<br>\n",
    "    5.1 [PCA](#pca)<br>\n",
    "    5.2 [Truncated SVD](#truncated_svd)<br>\n",
    "6. [Ensemble](#ensemble)<br>\n",
    "    6.1 [Random Forest Classifier](#random_forest_classifier)<br>\n",
    "    6.2 [Random Forest Regressor](#random_forest_regressor)<br>\n",
    "    6.3 [FIL](#fil)<br>\n",
    "    6.4 [Sparse FIL](#sparse_fil)<br>\n",
    "7. [Random Projection](#random_projection)<br>\n",
    "    7.1 [Gaussian Random Projection](#gaussian_random_projection)<br>\n",
    "    7.2 [Sparse Random Projection](#sparse_random_projection)<br>\n",
    "8. [SVM](#svm)<br>\n",
    "    8.1 [SVC - Linear Kernel](#svc_linear_kernel)<br>\n",
    "    8.2 [SVC - RBF Kernel](#svc_rbf_kernel)<br>\n",
    "    8.3 [SVR - Linear Kernel](#svr_linear_kernel)<br>\n",
    "    8.4 [SVR - RBF Kernel](#svr_rbf_kernel)<br>\n",
    "    \n",
    "### Chart & Store Results\n",
    "9. [Convert to Pandas DataFrame](#convert_to_pandas)<br>\n",
    "10. [Chart Results](#chart_results)<br>\n",
    "11. [Output to CSV](#output_csv)<br>"
   ]
  },
  {
   "cell_type": "markdown",
   "metadata": {},
   "source": [
    "## Neighbors<a id=\"neighbors\"/>\n"
   ]
  },
  {
   "cell_type": "markdown",
   "metadata": {},
   "source": [
    "### Nearest Neighbors - Brute Force<a id=\"nn_bruteforce\"/>"
   ]
  },
  {
   "cell_type": "code",
   "execution_count": null,
   "metadata": {},
   "outputs": [],
   "source": [
    "runner = cuml.benchmark.runners.SpeedupComparisonRunner(\n",
    "    bench_rows=SMALL_ROW_SIZES, \n",
    "    bench_dims=SKINNY_FEATURES,\n",
    "    dataset_name=DATA_NEIGHBORHOODS,\n",
    "    input_type=INPUT_TYPE,\n",
    "    n_reps=N_REPS,\n",
    ")\n",
    "\n",
    "execute_benchmark(\"NearestNeighbors\", runner)"
   ]
  },
  {
   "cell_type": "markdown",
   "metadata": {},
   "source": [
    "### KNeighborsClassifier<a id=\"kneighborsclassifier\"/>"
   ]
  },
  {
   "cell_type": "code",
   "execution_count": null,
   "metadata": {},
   "outputs": [],
   "source": [
    "runner = cuml.benchmark.runners.SpeedupComparisonRunner(\n",
    "    bench_rows=SMALL_ROW_SIZES, \n",
    "    bench_dims=SKINNY_FEATURES,\n",
    "    dataset_name=DATA_CLASSIFICATION,\n",
    "    input_type=INPUT_TYPE,\n",
    "    n_reps=N_REPS\n",
    ")\n",
    "\n",
    "execute_benchmark(\"KNeighborsClassifier\", runner)"
   ]
  },
  {
   "cell_type": "markdown",
   "metadata": {},
   "source": [
    "### KNeighborsRegressor<a id=\"kneighborsregressor\"/>"
   ]
  },
  {
   "cell_type": "code",
   "execution_count": null,
   "metadata": {},
   "outputs": [],
   "source": [
    "runner = cuml.benchmark.runners.SpeedupComparisonRunner(\n",
    "    bench_rows=SMALL_ROW_SIZES, \n",
    "    bench_dims=SKINNY_FEATURES,\n",
    "    dataset_name=DATA_REGRESSION,\n",
    "    input_type=INPUT_TYPE,\n",
    "    n_reps=N_REPS\n",
    ")\n",
    "\n",
    "execute_benchmark(\"KNeighborsRegressor\", runner)"
   ]
  },
  {
   "cell_type": "markdown",
   "metadata": {},
   "source": [
    "## Clustering<a id=\"clustering\"/>"
   ]
  },
  {
   "cell_type": "markdown",
   "metadata": {},
   "source": [
    "### DBSCAN - Brute Force<a id=\"dbscan_bruteforce\"/>"
   ]
  },
  {
   "cell_type": "code",
   "execution_count": null,
   "metadata": {},
   "outputs": [],
   "source": [
    "runner = cuml.benchmark.runners.SpeedupComparisonRunner(\n",
    "    bench_rows=LARGE_ROW_SIZES, \n",
    "    bench_dims=SKINNY_FEATURES,\n",
    "    dataset_name=DATA_NEIGHBORHOODS,\n",
    "    input_type=INPUT_TYPE,\n",
    "    n_reps=N_REPS\n",
    ")\n",
    "\n",
    "execute_benchmark(\"DBSCAN\", runner, run_cpu=False)"
   ]
  },
  {
   "cell_type": "markdown",
   "metadata": {},
   "source": [
    "### K-means Clustering<a id=\"kmeans\"/>"
   ]
  },
  {
   "cell_type": "code",
   "execution_count": null,
   "metadata": {},
   "outputs": [],
   "source": [
    "runner = cuml.benchmark.runners.SpeedupComparisonRunner(\n",
    "    bench_rows=SMALL_ROW_SIZES, \n",
    "    bench_dims=SKINNY_FEATURES,\n",
    "    dataset_name=DATA_NEIGHBORHOODS,\n",
    "    input_type=\"numpy\",\n",
    "    n_reps=N_REPS\n",
    ")\n",
    "\n",
    "execute_benchmark(\"KMeans\", runner)"
   ]
  },
  {
   "cell_type": "markdown",
   "metadata": {},
   "source": [
    "## Manifold Learning<a id=\"manifold_learning\"/>"
   ]
  },
  {
   "cell_type": "markdown",
   "metadata": {},
   "source": [
    "### UMAP - Unsupervised<a id=\"umap_unsupervised\"/>\n",
    "CPU benchmark requires UMAP-learn"
   ]
  },
  {
   "cell_type": "code",
   "execution_count": null,
   "metadata": {},
   "outputs": [],
   "source": [
    "runner = cuml.benchmark.runners.SpeedupComparisonRunner(\n",
    "    bench_rows=LARGE_ROW_SIZES, \n",
    "    bench_dims=WIDE_FEATURES,\n",
    "    dataset_name=DATA_NEIGHBORHOODS,\n",
    "    input_type=INPUT_TYPE,\n",
    "    n_reps=1\n",
    ")\n",
    "\n",
    "execute_benchmark(\"UMAP-Unsupervised\", runner, run_cpu=(RUN_CPU and has_umap()),\n",
    "                  raise_on_error=True)"
   ]
  },
  {
   "cell_type": "markdown",
   "metadata": {},
   "source": [
    "### UMAP - Supervised<a id=\"umap_supervised\"/>\n",
    "CPU benchmark requires UMAP-learn"
   ]
  },
  {
   "cell_type": "code",
   "execution_count": null,
   "metadata": {},
   "outputs": [],
   "source": [
    "runner = cuml.benchmark.runners.SpeedupComparisonRunner(\n",
    "    bench_rows=SMALL_ROW_SIZES, \n",
    "    bench_dims=WIDE_FEATURES,\n",
    "    dataset_name=DATA_NEIGHBORHOODS,\n",
    "    input_type=INPUT_TYPE,\n",
    "    n_reps=N_REPS\n",
    ")\n",
    "\n",
    "execute_benchmark(\"UMAP-Supervised\", runner, run_cpu=(RUN_CPU and has_umap()))"
   ]
  },
  {
   "cell_type": "markdown",
   "metadata": {},
   "source": [
    "### T-SNE<a id=\"tsne\"/>"
   ]
  },
  {
   "cell_type": "code",
   "execution_count": null,
   "metadata": {},
   "outputs": [],
   "source": [
    "runner = cuml.benchmark.runners.SpeedupComparisonRunner(\n",
    "    bench_rows=SMALL_ROW_SIZES, \n",
    "    bench_dims=[32, 256], \n",
    "    dataset_name=DATA_NEIGHBORHOODS,\n",
    "    input_type=INPUT_TYPE,\n",
    "    n_reps=N_REPS\n",
    ")\n",
    "\n",
    "# Due to extreme high runtime, the CPU benchmark \n",
    "# is disabled. Use run_cpu=True to re-enable. \n",
    "\n",
    "algo = cuml.benchmark.algorithms.algorithm_by_name(\"TSNE\")\n",
    "algo.cuml_args[\"verbose\"] = 1\n",
    "\n",
    "execute_benchmark(algo, runner, run_cpu=False, verbose=1)"
   ]
  },
  {
   "cell_type": "markdown",
   "metadata": {},
   "source": [
    "## Linear Models<a id=\"linear_models\"/>"
   ]
  },
  {
   "cell_type": "markdown",
   "metadata": {},
   "source": [
    "### Linear Regression<a id=\"linear_regression\"/>"
   ]
  },
  {
   "cell_type": "code",
   "execution_count": 14,
   "metadata": {},
   "outputs": [
    {
     "name": "stdout",
     "output_type": "stream",
     "text": [
      "    cu_time  cpu_time    speedup  n_samples  n_features              algo  \\\n",
      "0  0.035425  0.085243   2.406305     262144          16  LinearRegression   \n",
      "1  0.068504  0.716991  10.466428     262144          64  LinearRegression   \n",
      "2  0.035418  0.161019   4.546307     524288          16  LinearRegression   \n",
      "3  0.115326  1.505372  13.053166     524288          64  LinearRegression   \n",
      "4  0.058934  0.347174   5.890868    1048576          16  LinearRegression   \n",
      "5  0.202951  3.111481  15.331195    1048576          64  LinearRegression   \n",
      "\n",
      "  dataset_name input_type  \n",
      "0   regression      numpy  \n",
      "1   regression      numpy  \n",
      "2   regression      numpy  \n",
      "3   regression      numpy  \n",
      "4   regression      numpy  \n",
      "5   regression      numpy  \n"
     ]
    }
   ],
   "source": [
    "runner = cuml.benchmark.runners.SpeedupComparisonRunner(\n",
    "    bench_rows=LARGE_ROW_SIZES, \n",
    "    bench_dims=SKINNY_FEATURES,\n",
    "    dataset_name=DATA_REGRESSION,\n",
    "    input_type=INPUT_TYPE,\n",
    "    n_reps=N_REPS\n",
    ")\n",
    "\n",
    "execute_benchmark(\"LinearRegression\", runner)"
   ]
  },
  {
   "cell_type": "markdown",
   "metadata": {},
   "source": [
    "### Logistic Regression<a id=\"logistic_regression\"/>"
   ]
  },
  {
   "cell_type": "code",
   "execution_count": 15,
   "metadata": {},
   "outputs": [
    {
     "name": "stdout",
     "output_type": "stream",
     "text": [
      "    cu_time  cpu_time    speedup  n_samples  n_features                algo  \\\n",
      "0  0.029142  0.215675   7.400790     262144          16  LogisticRegression   \n",
      "1  0.060586  0.420636   6.942817     262144          64  LogisticRegression   \n",
      "2  0.089050  0.441282   4.955449     524288          16  LogisticRegression   \n",
      "3  0.143432  0.846501   5.901744     524288          64  LogisticRegression   \n",
      "4  0.121681  0.968434   7.958777    1048576          16  LogisticRegression   \n",
      "5  0.170286  1.840822  10.810168    1048576          64  LogisticRegression   \n",
      "\n",
      "     dataset_name input_type  \n",
      "0  classification      numpy  \n",
      "1  classification      numpy  \n",
      "2  classification      numpy  \n",
      "3  classification      numpy  \n",
      "4  classification      numpy  \n",
      "5  classification      numpy  \n"
     ]
    }
   ],
   "source": [
    "runner = cuml.benchmark.runners.SpeedupComparisonRunner(\n",
    "    bench_rows=LARGE_ROW_SIZES, \n",
    "    bench_dims=SKINNY_FEATURES,\n",
    "    dataset_name=DATA_CLASSIFICATION,\n",
    "    input_type=INPUT_TYPE,\n",
    "    n_reps=N_REPS\n",
    ")\n",
    "\n",
    "execute_benchmark(\"LogisticRegression\", runner)"
   ]
  },
  {
   "cell_type": "markdown",
   "metadata": {},
   "source": [
    "### Ridge Regression<a id=\"ridge_regression\"/>"
   ]
  },
  {
   "cell_type": "code",
   "execution_count": 16,
   "metadata": {},
   "outputs": [
    {
     "name": "stdout",
     "output_type": "stream",
     "text": [
      "    cu_time  cpu_time   speedup  n_samples  n_features   algo dataset_name  \\\n",
      "0  0.017922  0.019099  1.065664     262144          16  Ridge   regression   \n",
      "1  0.051440  0.088734  1.724994     262144          64  Ridge   regression   \n",
      "2  0.028036  0.044593  1.590594     524288          16  Ridge   regression   \n",
      "3  0.094273  0.175441  1.860980     524288          64  Ridge   regression   \n",
      "4  0.049358  0.089087  1.804918    1048576          16  Ridge   regression   \n",
      "5  0.156717  0.351482  2.242783    1048576          64  Ridge   regression   \n",
      "\n",
      "  input_type  \n",
      "0      numpy  \n",
      "1      numpy  \n",
      "2      numpy  \n",
      "3      numpy  \n",
      "4      numpy  \n",
      "5      numpy  \n"
     ]
    }
   ],
   "source": [
    "runner = cuml.benchmark.runners.SpeedupComparisonRunner(\n",
    "    bench_rows=LARGE_ROW_SIZES, \n",
    "    bench_dims=SKINNY_FEATURES,\n",
    "    dataset_name=DATA_REGRESSION,\n",
    "    input_type=INPUT_TYPE,\n",
    "    n_reps=N_REPS\n",
    ")\n",
    "\n",
    "execute_benchmark(\"Ridge\", runner)"
   ]
  },
  {
   "cell_type": "markdown",
   "metadata": {},
   "source": [
    "### Lasso Regression<a id=\"lasso_regression\"/>"
   ]
  },
  {
   "cell_type": "code",
   "execution_count": 12,
   "metadata": {},
   "outputs": [
    {
     "name": "stdout",
     "output_type": "stream",
     "text": [
      "    cu_time  cpu_time   speedup  n_samples  n_features   algo dataset_name  \\\n",
      "0  0.040659  0.044492  1.094279     262144          16  Lasso   regression   \n",
      "1  0.051930  0.332648  6.405702     262144          64  Lasso   regression   \n",
      "2  0.028333  0.099688  3.518428     524288          16  Lasso   regression   \n",
      "3  0.089100  0.508640  5.708619     524288          64  Lasso   regression   \n",
      "4  0.053207  0.207546  3.900760    1048576          16  Lasso   regression   \n",
      "5  0.164015  1.028839  6.272850    1048576          64  Lasso   regression   \n",
      "\n",
      "  input_type  \n",
      "0      numpy  \n",
      "1      numpy  \n",
      "2      numpy  \n",
      "3      numpy  \n",
      "4      numpy  \n",
      "5      numpy  \n"
     ]
    }
   ],
   "source": [
    "runner = cuml.benchmark.runners.SpeedupComparisonRunner(\n",
    "    bench_rows=LARGE_ROW_SIZES, \n",
    "    bench_dims=SKINNY_FEATURES,\n",
    "    dataset_name=DATA_REGRESSION,\n",
    "    input_type=INPUT_TYPE,\n",
    "    n_reps=N_REPS\n",
    ")\n",
    "\n",
    "execute_benchmark(\"Lasso\", runner)"
   ]
  },
  {
   "cell_type": "markdown",
   "metadata": {},
   "source": [
    "### ElasticNet Regression<a id=\"elasticnet_regression\"/>"
   ]
  },
  {
   "cell_type": "code",
   "execution_count": 13,
   "metadata": {},
   "outputs": [
    {
     "name": "stdout",
     "output_type": "stream",
     "text": [
      "    cu_time  cpu_time   speedup  n_samples  n_features        algo  \\\n",
      "0  0.020974  0.043548  2.076286     262144          16  ElasticNet   \n",
      "1  0.058258  0.249222  4.277929     262144          64  ElasticNet   \n",
      "2  0.027716  0.099248  3.580900     524288          16  ElasticNet   \n",
      "3  0.087102  0.516074  5.924964     524288          64  ElasticNet   \n",
      "4  0.052778  0.207737  3.936025    1048576          16  ElasticNet   \n",
      "5  0.169924  1.049255  6.174868    1048576          64  ElasticNet   \n",
      "\n",
      "  dataset_name input_type  \n",
      "0   regression      numpy  \n",
      "1   regression      numpy  \n",
      "2   regression      numpy  \n",
      "3   regression      numpy  \n",
      "4   regression      numpy  \n",
      "5   regression      numpy  \n"
     ]
    }
   ],
   "source": [
    "runner = cuml.benchmark.runners.SpeedupComparisonRunner(\n",
    "    bench_rows=LARGE_ROW_SIZES, \n",
    "    bench_dims=SKINNY_FEATURES,\n",
    "    dataset_name=DATA_REGRESSION,\n",
    "    input_type=INPUT_TYPE,\n",
    "    n_reps=N_REPS\n",
    ")\n",
    "\n",
    "execute_benchmark(\"ElasticNet\", runner)"
   ]
  },
  {
   "cell_type": "markdown",
   "metadata": {},
   "source": [
    "### Mini-batch SGD Classifier<a id=\"minibatch_sgd_classifier\"/>"
   ]
  },
  {
   "cell_type": "code",
   "execution_count": 20,
   "metadata": {},
   "outputs": [
    {
     "name": "stderr",
     "output_type": "stream",
     "text": [
      "/home/jzedlewski/code/rapidsai/cuml/python/cuml/benchmark/runners.py:115: UserWarning: run_cpu argument is set to True but no CPU implementation was provided. It's possible an additional library is needed but one could not be found. Benchmark will be executed with run_cpu=False\n",
      "  warnings.warn(\"run_cpu argument is set to True but no CPU \"\n"
     ]
    },
    {
     "name": "stdout",
     "output_type": "stream",
     "text": [
      "    cu_time  cpu_time  speedup  n_samples  n_features             algo  \\\n",
      "0  1.036744       0.0      0.0       4096          16  MBSGDClassifier   \n",
      "1  1.014148       0.0      0.0       4096          64  MBSGDClassifier   \n",
      "2  2.147093       0.0      0.0       8192          16  MBSGDClassifier   \n",
      "3  2.706843       0.0      0.0       8192          64  MBSGDClassifier   \n",
      "4  4.383487       0.0      0.0      16384          16  MBSGDClassifier   \n",
      "5  4.075072       0.0      0.0      16384          64  MBSGDClassifier   \n",
      "\n",
      "     dataset_name input_type  \n",
      "0  classification      numpy  \n",
      "1  classification      numpy  \n",
      "2  classification      numpy  \n",
      "3  classification      numpy  \n",
      "4  classification      numpy  \n",
      "5  classification      numpy  \n"
     ]
    }
   ],
   "source": [
    "runner = cuml.benchmark.runners.SpeedupComparisonRunner(\n",
    "    bench_rows=SMALL_ROW_SIZES, \n",
    "    bench_dims=SKINNY_FEATURES,\n",
    "    dataset_name=DATA_CLASSIFICATION,\n",
    "    input_type=INPUT_TYPE,\n",
    "    n_reps=N_REPS\n",
    ")\n",
    "\n",
    "execute_benchmark(\"MBSGDClassifier\", runner)"
   ]
  },
  {
   "cell_type": "markdown",
   "metadata": {},
   "source": [
    "## Decomposition<a id=\"decomposition\"/>"
   ]
  },
  {
   "cell_type": "markdown",
   "metadata": {},
   "source": [
    "### PCA<a id=\"pca\"/>"
   ]
  },
  {
   "cell_type": "code",
   "execution_count": 17,
   "metadata": {},
   "outputs": [
    {
     "name": "stdout",
     "output_type": "stream",
     "text": [
      "    cu_time   cpu_time    speedup  n_samples  n_features algo dataset_name  \\\n",
      "0  0.086476   0.702798   8.127055     262144         100  PCA        blobs   \n",
      "1  1.057676   5.833370   5.515271     262144        1000  PCA        blobs   \n",
      "2  0.128374   1.619350  12.614306     524288         100  PCA        blobs   \n",
      "3  1.991436  11.279368   5.663936     524288        1000  PCA        blobs   \n",
      "4  0.407951   3.171927   7.775264    1048576         100  PCA        blobs   \n",
      "5  3.972763  22.830528   5.746763    1048576        1000  PCA        blobs   \n",
      "\n",
      "  input_type  \n",
      "0      numpy  \n",
      "1      numpy  \n",
      "2      numpy  \n",
      "3      numpy  \n",
      "4      numpy  \n",
      "5      numpy  \n"
     ]
    }
   ],
   "source": [
    "runner = cuml.benchmark.runners.SpeedupComparisonRunner(\n",
    "    bench_rows=LARGE_ROW_SIZES, \n",
    "    bench_dims=WIDE_FEATURES,\n",
    "    dataset_name=DATA_NEIGHBORHOODS,\n",
    "    input_type=INPUT_TYPE,\n",
    "    n_reps=N_REPS\n",
    ")\n",
    "\n",
    "execute_benchmark(\"PCA\", runner)"
   ]
  },
  {
   "cell_type": "markdown",
   "metadata": {},
   "source": [
    "### Truncated SVD<a id=\"truncated_svd\"/>"
   ]
  },
  {
   "cell_type": "code",
   "execution_count": 18,
   "metadata": {},
   "outputs": [
    {
     "name": "stdout",
     "output_type": "stream",
     "text": [
      "    cu_time   cpu_time    speedup  n_samples  n_features  algo dataset_name  \\\n",
      "0  0.119193   0.693870   5.821421     262144         100  TSVD        blobs   \n",
      "1  0.742136   3.933296   5.299965     262144        1000  TSVD        blobs   \n",
      "2  0.163747   1.584700   9.677715     524288         100  TSVD        blobs   \n",
      "3  1.286237   8.088941   6.288842     524288        1000  TSVD        blobs   \n",
      "4  0.316578   3.393088  10.718026    1048576         100  TSVD        blobs   \n",
      "5  2.598108  16.407786   6.315284    1048576        1000  TSVD        blobs   \n",
      "\n",
      "  input_type  \n",
      "0      numpy  \n",
      "1      numpy  \n",
      "2      numpy  \n",
      "3      numpy  \n",
      "4      numpy  \n",
      "5      numpy  \n"
     ]
    }
   ],
   "source": [
    "runner = cuml.benchmark.runners.SpeedupComparisonRunner(\n",
    "    bench_rows=LARGE_ROW_SIZES, \n",
    "    bench_dims=WIDE_FEATURES,\n",
    "    dataset_name=DATA_NEIGHBORHOODS,\n",
    "    input_type=INPUT_TYPE,\n",
    "    n_reps=N_REPS\n",
    ")\n",
    "\n",
    "execute_benchmark(\"TSVD\", runner)"
   ]
  },
  {
   "cell_type": "markdown",
   "metadata": {},
   "source": [
    "## Ensemble<a id=\"ensemble\"/>"
   ]
  },
  {
   "cell_type": "markdown",
   "metadata": {},
   "source": [
    "### Random Forest Classifier<a id=\"random_forest_classifier\"/>"
   ]
  },
  {
   "cell_type": "code",
   "execution_count": 19,
   "metadata": {},
   "outputs": [
    {
     "name": "stdout",
     "output_type": "stream",
     "text": [
      "    cu_time    cpu_time     speedup  n_samples  n_features  \\\n",
      "0  0.177315    7.953322   44.854080     262144          16   \n",
      "1  0.513263   51.548505  100.432929     262144          64   \n",
      "2  0.279564   18.289939   65.423107     524288          16   \n",
      "3  0.895558  107.701110  120.261505     524288          64   \n",
      "4  0.393317   50.144205  127.490722    1048576          16   \n",
      "5  1.294974  306.656831  236.805380    1048576          64   \n",
      "\n",
      "                     algo    dataset_name input_type  \n",
      "0  RandomForestClassifier  classification      numpy  \n",
      "1  RandomForestClassifier  classification      numpy  \n",
      "2  RandomForestClassifier  classification      numpy  \n",
      "3  RandomForestClassifier  classification      numpy  \n",
      "4  RandomForestClassifier  classification      numpy  \n",
      "5  RandomForestClassifier  classification      numpy  \n"
     ]
    }
   ],
   "source": [
    "runner = cuml.benchmark.runners.SpeedupComparisonRunner(\n",
    "    bench_rows=LARGE_ROW_SIZES, \n",
    "    bench_dims=SKINNY_FEATURES,\n",
    "    dataset_name=DATA_CLASSIFICATION,\n",
    "    input_type=INPUT_TYPE,\n",
    "    n_reps=N_REPS\n",
    ")\n",
    "\n",
    "execute_benchmark(\"RandomForestClassifier\", runner)"
   ]
  },
  {
   "cell_type": "markdown",
   "metadata": {},
   "source": [
    "### Random Forest Regressor<a id=\"random_forest_regressor\"/>"
   ]
  },
  {
   "cell_type": "code",
   "execution_count": 21,
   "metadata": {},
   "outputs": [
    {
     "name": "stdout",
     "output_type": "stream",
     "text": [
      "    cu_time   cpu_time    speedup  n_samples  n_features  \\\n",
      "0  0.297135   4.634442  15.597074     262144          16   \n",
      "1  1.101298  16.774338  15.231428     262144          64   \n",
      "2  0.539284   9.470040  17.560380     524288          16   \n",
      "3  1.927899  36.961097  19.171697     524288          64   \n",
      "4  0.747536  22.863606  30.585284    1048576          16   \n",
      "5  3.405683  83.010268  24.374046    1048576          64   \n",
      "\n",
      "                    algo dataset_name input_type  \n",
      "0  RandomForestRegressor   regression      numpy  \n",
      "1  RandomForestRegressor   regression      numpy  \n",
      "2  RandomForestRegressor   regression      numpy  \n",
      "3  RandomForestRegressor   regression      numpy  \n",
      "4  RandomForestRegressor   regression      numpy  \n",
      "5  RandomForestRegressor   regression      numpy  \n"
     ]
    }
   ],
   "source": [
    "runner = cuml.benchmark.runners.SpeedupComparisonRunner(\n",
    "    bench_rows=LARGE_ROW_SIZES, \n",
    "    bench_dims=SKINNY_FEATURES,\n",
    "    dataset_name=DATA_REGRESSION,\n",
    "    input_type=INPUT_TYPE,\n",
    "    n_reps=N_REPS\n",
    ")\n",
    "\n",
    "execute_benchmark(\"RandomForestRegressor\", runner)"
   ]
  },
  {
   "cell_type": "markdown",
   "metadata": {},
   "source": [
    "### FIL<a id=\"fil\"/>\n",
    "CPU benchmark requires XGBoost Library"
   ]
  },
  {
   "cell_type": "code",
   "execution_count": null,
   "metadata": {},
   "outputs": [],
   "source": [
    "runner = cuml.benchmark.runners.SpeedupComparisonRunner(\n",
    "    bench_rows=SMALL_ROW_SIZES, \n",
    "    bench_dims=SKINNY_FEATURES,\n",
    "    dataset_name=DATA_CLASSIFICATION,\n",
    "    input_type=INPUT_TYPE,\n",
    "    n_reps=N_REPS\n",
    ")\n",
    "\n",
    "execute_benchmark(\"FIL\", runner)"
   ]
  },
  {
   "cell_type": "markdown",
   "metadata": {},
   "source": [
    "## Sparse FIL<a id=\"sparse_fil\"/>\n",
    "Requires TreeLite library"
   ]
  },
  {
   "cell_type": "code",
   "execution_count": null,
   "metadata": {},
   "outputs": [],
   "source": [
    "runner = cuml.benchmark.runners.SpeedupComparisonRunner(\n",
    "    bench_rows=SMALL_ROW_SIZES, \n",
    "    bench_dims=SKINNY_FEATURES,\n",
    "    dataset_name=DATA_CLASSIFICATION,\n",
    "    input_type=INPUT_TYPE,\n",
    "    n_reps=N_REPS\n",
    ")\n",
    "\n",
    "execute_benchmark(\"Sparse-FIL-SKL\", runner)"
   ]
  },
  {
   "cell_type": "markdown",
   "metadata": {},
   "source": [
    "## Random Projection<a id=\"random_projection\"/>"
   ]
  },
  {
   "cell_type": "markdown",
   "metadata": {},
   "source": [
    "### Gaussian Random Projection<a id=\"gaussian_random_projection\"/>"
   ]
  },
  {
   "cell_type": "code",
   "execution_count": 22,
   "metadata": {},
   "outputs": [
    {
     "name": "stdout",
     "output_type": "stream",
     "text": [
      "GaussianRandomProjection (n_samples=4096, n_features=16) [cpu=0.0, gpu=0.020132780075073242, speedup=0.0]\n",
      "GaussianRandomProjection (n_samples=4096, n_features=64) [cpu=0.0, gpu=0.004724979400634766, speedup=0.0]\n",
      "GaussianRandomProjection (n_samples=8192, n_features=16) [cpu=0.0, gpu=0.003981351852416992, speedup=0.0]\n",
      "GaussianRandomProjection (n_samples=8192, n_features=64) [cpu=0.0, gpu=0.006320953369140625, speedup=0.0]\n",
      "GaussianRandomProjection (n_samples=16384, n_features=16) [cpu=0.0, gpu=0.003882169723510742, speedup=0.0]\n",
      "GaussianRandomProjection (n_samples=16384, n_features=64) [cpu=0.0, gpu=0.008761167526245117, speedup=0.0]\n",
      "    cu_time  cpu_time  speedup  n_samples  n_features  \\\n",
      "0  0.020133       0.0      0.0       4096          16   \n",
      "1  0.004725       0.0      0.0       4096          64   \n",
      "2  0.003981       0.0      0.0       8192          16   \n",
      "3  0.006321       0.0      0.0       8192          64   \n",
      "4  0.003882       0.0      0.0      16384          16   \n",
      "5  0.008761       0.0      0.0      16384          64   \n",
      "\n",
      "                       algo dataset_name input_type  \n",
      "0  GaussianRandomProjection        blobs      numpy  \n",
      "1  GaussianRandomProjection        blobs      numpy  \n",
      "2  GaussianRandomProjection        blobs      numpy  \n",
      "3  GaussianRandomProjection        blobs      numpy  \n",
      "4  GaussianRandomProjection        blobs      numpy  \n",
      "5  GaussianRandomProjection        blobs      numpy  \n"
     ]
    }
   ],
   "source": [
    "runner = cuml.benchmark.runners.SpeedupComparisonRunner(\n",
    "    bench_rows=SMALL_ROW_SIZES,\n",
    "    bench_dims=SKINNY_FEATURES,\n",
    "    dataset_name=DATA_NEIGHBORHOODS,\n",
    "    input_type=INPUT_TYPE,\n",
    "    n_reps=N_REPS\n",
    ")\n",
    "\n",
    "execute_benchmark(\"GaussianRandomProjection\", runner, run_cpu=False, verbose=True)"
   ]
  },
  {
   "cell_type": "markdown",
   "metadata": {},
   "source": [
    "### Sparse Random Projection<a id=\"sparse_random_projection\"/>"
   ]
  },
  {
   "cell_type": "code",
   "execution_count": 23,
   "metadata": {},
   "outputs": [
    {
     "name": "stdout",
     "output_type": "stream",
     "text": [
      "    cu_time  cpu_time  speedup  n_samples  n_features                    algo  \\\n",
      "0  0.242530       0.0      0.0       4096         100  SparseRandomProjection   \n",
      "1  0.025747       0.0      0.0       4096        1000  SparseRandomProjection   \n",
      "2  0.009108       0.0      0.0       8192         100  SparseRandomProjection   \n",
      "3  0.044251       0.0      0.0       8192        1000  SparseRandomProjection   \n",
      "4  0.015806       0.0      0.0      16384         100  SparseRandomProjection   \n",
      "5  0.079758       0.0      0.0      16384        1000  SparseRandomProjection   \n",
      "\n",
      "  dataset_name input_type  \n",
      "0        blobs      numpy  \n",
      "1        blobs      numpy  \n",
      "2        blobs      numpy  \n",
      "3        blobs      numpy  \n",
      "4        blobs      numpy  \n",
      "5        blobs      numpy  \n"
     ]
    }
   ],
   "source": [
    "runner = cuml.benchmark.runners.SpeedupComparisonRunner(\n",
    "    bench_rows=SMALL_ROW_SIZES,\n",
    "    bench_dims=WIDE_FEATURES,\n",
    "    dataset_name=DATA_NEIGHBORHOODS,\n",
    "    input_type=INPUT_TYPE,\n",
    "    n_reps=N_REPS\n",
    ")\n",
    "\n",
    "execute_benchmark(\"SparseRandomProjection\", runner, run_cpu=False)"
   ]
  },
  {
   "cell_type": "markdown",
   "metadata": {},
   "source": [
    "## SVM<a id=\"svm\"/>"
   ]
  },
  {
   "cell_type": "markdown",
   "metadata": {},
   "source": [
    "### SVC - Linear Kernel<a id=\"svc_linear_kernel\"/>"
   ]
  },
  {
   "cell_type": "code",
   "execution_count": 37,
   "metadata": {},
   "outputs": [
    {
     "name": "stdout",
     "output_type": "stream",
     "text": [
      "    cu_time   cpu_time    speedup  n_samples  n_features        algo  \\\n",
      "0  0.295579   0.202856   0.686299       4096          16  SVC-Linear   \n",
      "1  1.393995   1.345905   0.965502       4096          64  SVC-Linear   \n",
      "2  0.502921   1.905206   3.788283       8192          16  SVC-Linear   \n",
      "3  1.986276   7.713473   3.883384       8192          64  SVC-Linear   \n",
      "4  0.538374   4.757145   8.836131      16384          16  SVC-Linear   \n",
      "5  2.564842  37.799499  14.737553      16384          64  SVC-Linear   \n",
      "\n",
      "     dataset_name input_type  \n",
      "0  classification      numpy  \n",
      "1  classification      numpy  \n",
      "2  classification      numpy  \n",
      "3  classification      numpy  \n",
      "4  classification      numpy  \n",
      "5  classification      numpy  \n"
     ]
    }
   ],
   "source": [
    "runner = cuml.benchmark.runners.SpeedupComparisonRunner(\n",
    "    bench_rows=SMALL_ROW_SIZES, \n",
    "    bench_dims=SKINNY_FEATURES,\n",
    "    dataset_name=DATA_CLASSIFICATION,\n",
    "    input_type=INPUT_TYPE,\n",
    "    n_reps=N_REPS\n",
    ")\n",
    "\n",
    "# Due to extreme high runtime, the CPU benchmark \n",
    "# is disabled. Use run_cpu=True to re-enable. \n",
    "\n",
    "execute_benchmark(\"SVC-Linear\", runner, run_cpu=RUN_SLOW_CPU_ALGOS)"
   ]
  },
  {
   "cell_type": "markdown",
   "metadata": {},
   "source": [
    "### SVC - RBF Kernel<a id=\"svc_rbf_kernel\"/>"
   ]
  },
  {
   "cell_type": "code",
   "execution_count": 38,
   "metadata": {},
   "outputs": [
    {
     "name": "stdout",
     "output_type": "stream",
     "text": [
      "    cu_time   cpu_time    speedup  n_samples  n_features     algo  \\\n",
      "0  0.074594   0.174590   2.340539       4096          16  SVC-RBF   \n",
      "1  0.052657   0.639899  12.152242       4096          64  SVC-RBF   \n",
      "2  0.102453   1.180838  11.525633       8192          16  SVC-RBF   \n",
      "3  0.110839   3.696446  33.349581       8192          64  SVC-RBF   \n",
      "4  0.212351   4.360883  20.536195      16384          16  SVC-RBF   \n",
      "5  0.183340  12.225076  66.679869      16384          64  SVC-RBF   \n",
      "\n",
      "     dataset_name input_type  \n",
      "0  classification      numpy  \n",
      "1  classification      numpy  \n",
      "2  classification      numpy  \n",
      "3  classification      numpy  \n",
      "4  classification      numpy  \n",
      "5  classification      numpy  \n"
     ]
    }
   ],
   "source": [
    "runner = cuml.benchmark.runners.SpeedupComparisonRunner(\n",
    "    bench_rows=SMALL_ROW_SIZES, \n",
    "    bench_dims=SKINNY_FEATURES,\n",
    "    dataset_name=DATA_CLASSIFICATION,\n",
    "    input_type=INPUT_TYPE,\n",
    "    n_reps=N_REPS\n",
    ")\n",
    "\n",
    "# Due to extreme high runtime, the CPU benchmark \n",
    "# is disabled. Use run_cpu=True to re-enable. \n",
    "\n",
    "execute_benchmark(\"SVC-RBF\", runner, run_cpu=RUN_SLOW_CPU_ALGOS)"
   ]
  },
  {
   "cell_type": "markdown",
   "metadata": {},
   "source": [
    "### SVR - Linear Kernel<a id=\"svr_linear_kernel\"/>"
   ]
  },
  {
   "cell_type": "code",
   "execution_count": 39,
   "metadata": {},
   "outputs": [
    {
     "name": "stdout",
     "output_type": "stream",
     "text": [
      "    cu_time  cpu_time   speedup  n_samples  n_features        algo  \\\n",
      "0  0.338098  0.138603  0.409950       4096          16  SVR-Linear   \n",
      "1  1.763698  0.925166  0.524560       4096          64  SVR-Linear   \n",
      "2  0.354691  0.280358  0.790431       8192          16  SVR-Linear   \n",
      "3  2.674212  1.350024  0.504831       8192          64  SVR-Linear   \n",
      "4  0.540443  0.600564  1.111244      16384          16  SVR-Linear   \n",
      "5  2.988857  1.959144  0.655483      16384          64  SVR-Linear   \n",
      "\n",
      "  dataset_name input_type  \n",
      "0   regression      numpy  \n",
      "1   regression      numpy  \n",
      "2   regression      numpy  \n",
      "3   regression      numpy  \n",
      "4   regression      numpy  \n",
      "5   regression      numpy  \n"
     ]
    }
   ],
   "source": [
    "runner = cuml.benchmark.runners.SpeedupComparisonRunner(\n",
    "    bench_rows=SMALL_ROW_SIZES, \n",
    "    bench_dims=SKINNY_FEATURES,\n",
    "    dataset_name=DATA_REGRESSION,\n",
    "    input_type=INPUT_TYPE,\n",
    "    n_reps=N_REPS\n",
    ")\n",
    "\n",
    "# Due to extreme high runtime, the CPU benchmark \n",
    "# is disabled. Use run_cpu=True to re-enable. \n",
    "\n",
    "execute_benchmark(\"SVR-Linear\", runner, run_cpu=RUN_SLOW_CPU_ALGOS)"
   ]
  },
  {
   "cell_type": "markdown",
   "metadata": {},
   "source": [
    "### SVR - RBF Kernel<a id=\"svr_rbf_kernel\"/>"
   ]
  },
  {
   "cell_type": "code",
   "execution_count": 40,
   "metadata": {},
   "outputs": [
    {
     "name": "stdout",
     "output_type": "stream",
     "text": [
      "    cu_time   cpu_time     speedup  n_samples  n_features     algo  \\\n",
      "0  0.063401   0.711154   11.216674       4096          16  SVR-RBF   \n",
      "1  0.058444   1.574319   26.936994       4096          64  SVR-RBF   \n",
      "2  0.094380   2.789990   29.561272       8192          16  SVR-RBF   \n",
      "3  0.101447   6.274509   61.850059       8192          64  SVR-RBF   \n",
      "4  0.156145  10.969604   70.252631      16384          16  SVR-RBF   \n",
      "5  0.155951  25.015144  160.403849      16384          64  SVR-RBF   \n",
      "\n",
      "  dataset_name input_type  \n",
      "0   regression      numpy  \n",
      "1   regression      numpy  \n",
      "2   regression      numpy  \n",
      "3   regression      numpy  \n",
      "4   regression      numpy  \n",
      "5   regression      numpy  \n"
     ]
    }
   ],
   "source": [
    "runner = cuml.benchmark.runners.SpeedupComparisonRunner(\n",
    "    bench_rows=SMALL_ROW_SIZES, \n",
    "    bench_dims=SKINNY_FEATURES,\n",
    "    dataset_name=DATA_REGRESSION,\n",
    "    input_type=INPUT_TYPE,\n",
    "    n_reps=N_REPS\n",
    ")\n",
    "\n",
    "execute_benchmark(\"SVR-RBF\", runner, run_cpu=RUN_SLOW_CPU_ALGOS)"
   ]
  },
  {
   "cell_type": "markdown",
   "metadata": {},
   "source": [
    "## Charting & Storing Results<a id=\"charting_and_storing_results\"/>"
   ]
  },
  {
   "cell_type": "markdown",
   "metadata": {},
   "source": [
    "### Convert Results to Pandas DataFrame<a id=\"convert_to_pandas\"/>"
   ]
  },
  {
   "cell_type": "code",
   "execution_count": 28,
   "metadata": {},
   "outputs": [],
   "source": [
    "%matplotlib inline"
   ]
  },
  {
   "cell_type": "code",
   "execution_count": 29,
   "metadata": {},
   "outputs": [],
   "source": [
    "df = pd.DataFrame(benchmark_results)"
   ]
  },
  {
   "cell_type": "markdown",
   "metadata": {},
   "source": [
    "### Chart Results<a id=\"chart_results\"/>"
   ]
  },
  {
   "cell_type": "code",
   "execution_count": 30,
   "metadata": {},
   "outputs": [],
   "source": [
    "def chart_single_algo_speedup(df, algorithm):\n",
    "    df = df.loc[df.algo == algorithm]\n",
    "    df = df.pivot(index=\"n_samples\", columns=\"n_features\", values=\"speedup\")\n",
    "    axes = df.plot.bar(title=\"%s Speedup\" % algorithm)"
   ]
  },
  {
   "cell_type": "code",
   "execution_count": 31,
   "metadata": {},
   "outputs": [],
   "source": [
    "def chart_all_algo_speedup(df):\n",
    "    df = df[[\"algo\", \"n_samples\", \"speedup\"]].groupby([\"algo\", \"n_samples\"]).mean()\n",
    "    df.plot.bar()"
   ]
  },
  {
   "cell_type": "code",
   "execution_count": 32,
   "metadata": {},
   "outputs": [
    {
     "ename": "ValueError",
     "evalue": "Index contains duplicate entries, cannot reshape",
     "output_type": "error",
     "traceback": [
      "\u001b[0;31m---------------------------------------------------------------------------\u001b[0m",
      "\u001b[0;31mValueError\u001b[0m                                Traceback (most recent call last)",
      "\u001b[0;32m<ipython-input-32-b0b1f1ce6cec>\u001b[0m in \u001b[0;36m<module>\u001b[0;34m\u001b[0m\n\u001b[0;32m----> 1\u001b[0;31m \u001b[0mchart_single_algo_speedup\u001b[0m\u001b[0;34m(\u001b[0m\u001b[0mdf\u001b[0m\u001b[0;34m,\u001b[0m \u001b[0;34m\"LinearRegression\"\u001b[0m\u001b[0;34m)\u001b[0m\u001b[0;34m\u001b[0m\u001b[0;34m\u001b[0m\u001b[0m\n\u001b[0m",
      "\u001b[0;32m<ipython-input-30-d5e3392d926e>\u001b[0m in \u001b[0;36mchart_single_algo_speedup\u001b[0;34m(df, algorithm)\u001b[0m\n\u001b[1;32m      1\u001b[0m \u001b[0;32mdef\u001b[0m \u001b[0mchart_single_algo_speedup\u001b[0m\u001b[0;34m(\u001b[0m\u001b[0mdf\u001b[0m\u001b[0;34m,\u001b[0m \u001b[0malgorithm\u001b[0m\u001b[0;34m)\u001b[0m\u001b[0;34m:\u001b[0m\u001b[0;34m\u001b[0m\u001b[0;34m\u001b[0m\u001b[0m\n\u001b[1;32m      2\u001b[0m     \u001b[0mdf\u001b[0m \u001b[0;34m=\u001b[0m \u001b[0mdf\u001b[0m\u001b[0;34m.\u001b[0m\u001b[0mloc\u001b[0m\u001b[0;34m[\u001b[0m\u001b[0mdf\u001b[0m\u001b[0;34m.\u001b[0m\u001b[0malgo\u001b[0m \u001b[0;34m==\u001b[0m \u001b[0malgorithm\u001b[0m\u001b[0;34m]\u001b[0m\u001b[0;34m\u001b[0m\u001b[0;34m\u001b[0m\u001b[0m\n\u001b[0;32m----> 3\u001b[0;31m     \u001b[0mdf\u001b[0m \u001b[0;34m=\u001b[0m \u001b[0mdf\u001b[0m\u001b[0;34m.\u001b[0m\u001b[0mpivot\u001b[0m\u001b[0;34m(\u001b[0m\u001b[0mindex\u001b[0m\u001b[0;34m=\u001b[0m\u001b[0;34m\"n_samples\"\u001b[0m\u001b[0;34m,\u001b[0m \u001b[0mcolumns\u001b[0m\u001b[0;34m=\u001b[0m\u001b[0;34m\"n_features\"\u001b[0m\u001b[0;34m,\u001b[0m \u001b[0mvalues\u001b[0m\u001b[0;34m=\u001b[0m\u001b[0;34m\"speedup\"\u001b[0m\u001b[0;34m)\u001b[0m\u001b[0;34m\u001b[0m\u001b[0;34m\u001b[0m\u001b[0m\n\u001b[0m\u001b[1;32m      4\u001b[0m     \u001b[0maxes\u001b[0m \u001b[0;34m=\u001b[0m \u001b[0mdf\u001b[0m\u001b[0;34m.\u001b[0m\u001b[0mplot\u001b[0m\u001b[0;34m.\u001b[0m\u001b[0mbar\u001b[0m\u001b[0;34m(\u001b[0m\u001b[0mtitle\u001b[0m\u001b[0;34m=\u001b[0m\u001b[0;34m\"%s Speedup\"\u001b[0m \u001b[0;34m%\u001b[0m \u001b[0malgorithm\u001b[0m\u001b[0;34m)\u001b[0m\u001b[0;34m\u001b[0m\u001b[0;34m\u001b[0m\u001b[0m\n",
      "\u001b[0;32m~/anaconda3/envs/cuml_dev/lib/python3.7/site-packages/pandas/core/frame.py\u001b[0m in \u001b[0;36mpivot\u001b[0;34m(self, index, columns, values)\u001b[0m\n\u001b[1;32m   5921\u001b[0m         \u001b[0;32mfrom\u001b[0m \u001b[0mpandas\u001b[0m\u001b[0;34m.\u001b[0m\u001b[0mcore\u001b[0m\u001b[0;34m.\u001b[0m\u001b[0mreshape\u001b[0m\u001b[0;34m.\u001b[0m\u001b[0mpivot\u001b[0m \u001b[0;32mimport\u001b[0m \u001b[0mpivot\u001b[0m\u001b[0;34m\u001b[0m\u001b[0;34m\u001b[0m\u001b[0m\n\u001b[1;32m   5922\u001b[0m \u001b[0;34m\u001b[0m\u001b[0m\n\u001b[0;32m-> 5923\u001b[0;31m         \u001b[0;32mreturn\u001b[0m \u001b[0mpivot\u001b[0m\u001b[0;34m(\u001b[0m\u001b[0mself\u001b[0m\u001b[0;34m,\u001b[0m \u001b[0mindex\u001b[0m\u001b[0;34m=\u001b[0m\u001b[0mindex\u001b[0m\u001b[0;34m,\u001b[0m \u001b[0mcolumns\u001b[0m\u001b[0;34m=\u001b[0m\u001b[0mcolumns\u001b[0m\u001b[0;34m,\u001b[0m \u001b[0mvalues\u001b[0m\u001b[0;34m=\u001b[0m\u001b[0mvalues\u001b[0m\u001b[0;34m)\u001b[0m\u001b[0;34m\u001b[0m\u001b[0;34m\u001b[0m\u001b[0m\n\u001b[0m\u001b[1;32m   5924\u001b[0m \u001b[0;34m\u001b[0m\u001b[0m\n\u001b[1;32m   5925\u001b[0m     _shared_docs[\n",
      "\u001b[0;32m~/anaconda3/envs/cuml_dev/lib/python3.7/site-packages/pandas/core/reshape/pivot.py\u001b[0m in \u001b[0;36mpivot\u001b[0;34m(data, index, columns, values)\u001b[0m\n\u001b[1;32m    448\u001b[0m         \u001b[0;32melse\u001b[0m\u001b[0;34m:\u001b[0m\u001b[0;34m\u001b[0m\u001b[0;34m\u001b[0m\u001b[0m\n\u001b[1;32m    449\u001b[0m             \u001b[0mindexed\u001b[0m \u001b[0;34m=\u001b[0m \u001b[0mdata\u001b[0m\u001b[0;34m.\u001b[0m\u001b[0m_constructor_sliced\u001b[0m\u001b[0;34m(\u001b[0m\u001b[0mdata\u001b[0m\u001b[0;34m[\u001b[0m\u001b[0mvalues\u001b[0m\u001b[0;34m]\u001b[0m\u001b[0;34m.\u001b[0m\u001b[0mvalues\u001b[0m\u001b[0;34m,\u001b[0m \u001b[0mindex\u001b[0m\u001b[0;34m=\u001b[0m\u001b[0mindex\u001b[0m\u001b[0;34m)\u001b[0m\u001b[0;34m\u001b[0m\u001b[0;34m\u001b[0m\u001b[0m\n\u001b[0;32m--> 450\u001b[0;31m     \u001b[0;32mreturn\u001b[0m \u001b[0mindexed\u001b[0m\u001b[0;34m.\u001b[0m\u001b[0munstack\u001b[0m\u001b[0;34m(\u001b[0m\u001b[0mcolumns\u001b[0m\u001b[0;34m)\u001b[0m\u001b[0;34m\u001b[0m\u001b[0;34m\u001b[0m\u001b[0m\n\u001b[0m\u001b[1;32m    451\u001b[0m \u001b[0;34m\u001b[0m\u001b[0m\n\u001b[1;32m    452\u001b[0m \u001b[0;34m\u001b[0m\u001b[0m\n",
      "\u001b[0;32m~/anaconda3/envs/cuml_dev/lib/python3.7/site-packages/pandas/core/series.py\u001b[0m in \u001b[0;36munstack\u001b[0;34m(self, level, fill_value)\u001b[0m\n\u001b[1;32m   3548\u001b[0m         \u001b[0;32mfrom\u001b[0m \u001b[0mpandas\u001b[0m\u001b[0;34m.\u001b[0m\u001b[0mcore\u001b[0m\u001b[0;34m.\u001b[0m\u001b[0mreshape\u001b[0m\u001b[0;34m.\u001b[0m\u001b[0mreshape\u001b[0m \u001b[0;32mimport\u001b[0m \u001b[0munstack\u001b[0m\u001b[0;34m\u001b[0m\u001b[0;34m\u001b[0m\u001b[0m\n\u001b[1;32m   3549\u001b[0m \u001b[0;34m\u001b[0m\u001b[0m\n\u001b[0;32m-> 3550\u001b[0;31m         \u001b[0;32mreturn\u001b[0m \u001b[0munstack\u001b[0m\u001b[0;34m(\u001b[0m\u001b[0mself\u001b[0m\u001b[0;34m,\u001b[0m \u001b[0mlevel\u001b[0m\u001b[0;34m,\u001b[0m \u001b[0mfill_value\u001b[0m\u001b[0;34m)\u001b[0m\u001b[0;34m\u001b[0m\u001b[0;34m\u001b[0m\u001b[0m\n\u001b[0m\u001b[1;32m   3551\u001b[0m \u001b[0;34m\u001b[0m\u001b[0m\n\u001b[1;32m   3552\u001b[0m     \u001b[0;31m# ----------------------------------------------------------------------\u001b[0m\u001b[0;34m\u001b[0m\u001b[0;34m\u001b[0m\u001b[0;34m\u001b[0m\u001b[0m\n",
      "\u001b[0;32m~/anaconda3/envs/cuml_dev/lib/python3.7/site-packages/pandas/core/reshape/reshape.py\u001b[0m in \u001b[0;36munstack\u001b[0;34m(obj, level, fill_value)\u001b[0m\n\u001b[1;32m    417\u001b[0m             \u001b[0mlevel\u001b[0m\u001b[0;34m=\u001b[0m\u001b[0mlevel\u001b[0m\u001b[0;34m,\u001b[0m\u001b[0;34m\u001b[0m\u001b[0;34m\u001b[0m\u001b[0m\n\u001b[1;32m    418\u001b[0m             \u001b[0mfill_value\u001b[0m\u001b[0;34m=\u001b[0m\u001b[0mfill_value\u001b[0m\u001b[0;34m,\u001b[0m\u001b[0;34m\u001b[0m\u001b[0;34m\u001b[0m\u001b[0m\n\u001b[0;32m--> 419\u001b[0;31m             \u001b[0mconstructor\u001b[0m\u001b[0;34m=\u001b[0m\u001b[0mobj\u001b[0m\u001b[0;34m.\u001b[0m\u001b[0m_constructor_expanddim\u001b[0m\u001b[0;34m,\u001b[0m\u001b[0;34m\u001b[0m\u001b[0;34m\u001b[0m\u001b[0m\n\u001b[0m\u001b[1;32m    420\u001b[0m         )\n\u001b[1;32m    421\u001b[0m         \u001b[0;32mreturn\u001b[0m \u001b[0munstacker\u001b[0m\u001b[0;34m.\u001b[0m\u001b[0mget_result\u001b[0m\u001b[0;34m(\u001b[0m\u001b[0;34m)\u001b[0m\u001b[0;34m\u001b[0m\u001b[0;34m\u001b[0m\u001b[0m\n",
      "\u001b[0;32m~/anaconda3/envs/cuml_dev/lib/python3.7/site-packages/pandas/core/reshape/reshape.py\u001b[0m in \u001b[0;36m__init__\u001b[0;34m(self, values, index, level, value_columns, fill_value, constructor)\u001b[0m\n\u001b[1;32m    139\u001b[0m \u001b[0;34m\u001b[0m\u001b[0m\n\u001b[1;32m    140\u001b[0m         \u001b[0mself\u001b[0m\u001b[0;34m.\u001b[0m\u001b[0m_make_sorted_values_labels\u001b[0m\u001b[0;34m(\u001b[0m\u001b[0;34m)\u001b[0m\u001b[0;34m\u001b[0m\u001b[0;34m\u001b[0m\u001b[0m\n\u001b[0;32m--> 141\u001b[0;31m         \u001b[0mself\u001b[0m\u001b[0;34m.\u001b[0m\u001b[0m_make_selectors\u001b[0m\u001b[0;34m(\u001b[0m\u001b[0;34m)\u001b[0m\u001b[0;34m\u001b[0m\u001b[0;34m\u001b[0m\u001b[0m\n\u001b[0m\u001b[1;32m    142\u001b[0m \u001b[0;34m\u001b[0m\u001b[0m\n\u001b[1;32m    143\u001b[0m     \u001b[0;32mdef\u001b[0m \u001b[0m_make_sorted_values_labels\u001b[0m\u001b[0;34m(\u001b[0m\u001b[0mself\u001b[0m\u001b[0;34m)\u001b[0m\u001b[0;34m:\u001b[0m\u001b[0;34m\u001b[0m\u001b[0;34m\u001b[0m\u001b[0m\n",
      "\u001b[0;32m~/anaconda3/envs/cuml_dev/lib/python3.7/site-packages/pandas/core/reshape/reshape.py\u001b[0m in \u001b[0;36m_make_selectors\u001b[0;34m(self)\u001b[0m\n\u001b[1;32m    177\u001b[0m \u001b[0;34m\u001b[0m\u001b[0m\n\u001b[1;32m    178\u001b[0m         \u001b[0;32mif\u001b[0m \u001b[0mmask\u001b[0m\u001b[0;34m.\u001b[0m\u001b[0msum\u001b[0m\u001b[0;34m(\u001b[0m\u001b[0;34m)\u001b[0m \u001b[0;34m<\u001b[0m \u001b[0mlen\u001b[0m\u001b[0;34m(\u001b[0m\u001b[0mself\u001b[0m\u001b[0;34m.\u001b[0m\u001b[0mindex\u001b[0m\u001b[0;34m)\u001b[0m\u001b[0;34m:\u001b[0m\u001b[0;34m\u001b[0m\u001b[0;34m\u001b[0m\u001b[0m\n\u001b[0;32m--> 179\u001b[0;31m             \u001b[0;32mraise\u001b[0m \u001b[0mValueError\u001b[0m\u001b[0;34m(\u001b[0m\u001b[0;34m\"Index contains duplicate entries, cannot reshape\"\u001b[0m\u001b[0;34m)\u001b[0m\u001b[0;34m\u001b[0m\u001b[0;34m\u001b[0m\u001b[0m\n\u001b[0m\u001b[1;32m    180\u001b[0m \u001b[0;34m\u001b[0m\u001b[0m\n\u001b[1;32m    181\u001b[0m         \u001b[0mself\u001b[0m\u001b[0;34m.\u001b[0m\u001b[0mgroup_index\u001b[0m \u001b[0;34m=\u001b[0m \u001b[0mcomp_index\u001b[0m\u001b[0;34m\u001b[0m\u001b[0;34m\u001b[0m\u001b[0m\n",
      "\u001b[0;31mValueError\u001b[0m: Index contains duplicate entries, cannot reshape"
     ]
    }
   ],
   "source": [
    "chart_single_algo_speedup(df, \"LinearRegression\")"
   ]
  },
  {
   "cell_type": "code",
   "execution_count": 33,
   "metadata": {},
   "outputs": [
    {
     "data": {
      "image/png": "[encoded data removed]",
      "text/plain": [
       "<Figure size 432x288 with 1 Axes>"
      ]
     },
     "metadata": {
      "needs_background": "light"
     },
     "output_type": "display_data"
    }
   ],
   "source": [
    "chart_all_algo_speedup(df)"
   ]
  },
  {
   "cell_type": "code",
   "execution_count": 34,
   "metadata": {},
   "outputs": [
    {
     "name": "stdout",
     "output_type": "stream",
     "text": [
      "['LinearRegression' 'LogisticRegression' 'Ridge' 'Lasso' 'ElasticNet'\n",
      " 'PCA' 'TSVD' 'RandomForestClassifier' 'MBSGDClassifier'\n",
      " 'RandomForestRegressor' 'GaussianRandomProjection'\n",
      " 'SparseRandomProjection' 'SVC-Linear' 'SVC-RBF' 'SVR-Linear' 'SVR-RBF']\n"
     ]
    },
    {
     "data": {
      "text/plain": [
       "<Figure size 720x288 with 0 Axes>"
      ]
     },
     "metadata": {},
     "output_type": "display_data"
    },
    {
     "data": {
      "image/png": "[encoded data removed]",
      "text/plain": [
       "<Figure size 440.625x360 with 1 Axes>"
      ]
     },
     "metadata": {
      "needs_background": "light"
     },
     "output_type": "display_data"
    },
    {
     "data": {
      "text/plain": [
       "<Figure size 720x288 with 0 Axes>"
      ]
     },
     "metadata": {},
     "output_type": "display_data"
    },
    {
     "data": {
      "image/png": "[encoded data removed]",
      "text/plain": [
       "<Figure size 427.875x360 with 1 Axes>"
      ]
     },
     "metadata": {
      "needs_background": "light"
     },
     "output_type": "display_data"
    }
   ],
   "source": [
    "# Focused plots to highlight algorithms of particular interest, split by large vs. small datasets\n",
    "print(df.algo.unique())\n",
    "\n",
    "small_algos = df[df.n_samples == SMALL_ROW_SIZES[0]].algo.unique()\n",
    "large_algos = df[df.n_samples == LARGE_ROW_SIZES[-1]].algo.unique()\n",
    "\n",
    "algos_to_highlight = [\"UMAP-Unsupervised\", \"NearestNeighbors\", \"KMeans\", \"LinearRegression\", \"Lasso\", \"GaussianRandomProjection\",\n",
    "                 \"LogisticRegression\", \"PCA\", \"RandomForestClassifier\", \"TSVD\", \"SVC-RBF\", \"SVC-Linear\", \"DBSCAN\"]\n",
    "highlight_df = df[df.algo.isin(algos_to_highlight)]\n",
    "\n",
    "import seaborn as sns\n",
    "import matplotlib.pyplot as plt\n",
    "\n",
    "for algo_list in (large_algos, small_algos):\n",
    "    plt.figure(figsize=(10,4))\n",
    "    current_df = highlight_df[highlight_df.algo.isin(algo_list)]\n",
    "    chart = sns.catplot(x=\"algo\", y=\"speedup\", data=current_df, hue=\"n_samples\", kind=\"bar\", ci=None)\n",
    "    plt.xticks(rotation=45)\n",
    "    plt.show()"
   ]
  },
  {
   "cell_type": "code",
   "execution_count": 35,
   "metadata": {},
   "outputs": [
    {
     "data": {
      "text/html": [
       "<div>\n",
       "<style scoped>\n",
       "    .dataframe tbody tr th:only-of-type {\n",
       "        vertical-align: middle;\n",
       "    }\n",
       "\n",
       "    .dataframe tbody tr th {\n",
       "        vertical-align: top;\n",
       "    }\n",
       "\n",
       "    .dataframe thead th {\n",
       "        text-align: right;\n",
       "    }\n",
       "</style>\n",
       "<table border=\"1\" class=\"dataframe\">\n",
       "  <thead>\n",
       "    <tr style=\"text-align: right;\">\n",
       "      <th></th>\n",
       "      <th>cu_time</th>\n",
       "      <th>cpu_time</th>\n",
       "      <th>speedup</th>\n",
       "      <th>n_samples</th>\n",
       "      <th>n_features</th>\n",
       "      <th>algo</th>\n",
       "      <th>dataset_name</th>\n",
       "      <th>input_type</th>\n",
       "    </tr>\n",
       "  </thead>\n",
       "  <tbody>\n",
       "  </tbody>\n",
       "</table>\n",
       "</div>"
      ],
      "text/plain": [
       "Empty DataFrame\n",
       "Columns: [cu_time, cpu_time, speedup, n_samples, n_features, algo, dataset_name, input_type]\n",
       "Index: []"
      ]
     },
     "execution_count": 35,
     "metadata": {},
     "output_type": "execute_result"
    }
   ],
   "source": [
    "highlight_df[highlight_df.algo == 'SVC-Linea']"
   ]
  },
  {
   "cell_type": "markdown",
   "metadata": {},
   "source": [
    "### Output Results to CSV<a id=\"output_csv\"/>"
   ]
  },
  {
   "cell_type": "code",
   "execution_count": null,
   "metadata": {},
   "outputs": [],
   "source": [
    "df.to_csv(\"benchmark_results.csv\")"
   ]
  }
 ],
 "metadata": {
  "kernelspec": {
   "display_name": "Python 3",
   "language": "python",
   "name": "python3"
  },
  "language_info": {
   "codemirror_mode": {
    "name": "ipython",
    "version": 3
   },
   "file_extension": ".py",
   "mimetype": "text/x-python",
   "name": "python",
   "nbconvert_exporter": "python",
   "pygments_lexer": "ipython3",
   "version": "3.7.6"
  }
 },
 "nbformat": 4,
 "nbformat_minor": 4
}
